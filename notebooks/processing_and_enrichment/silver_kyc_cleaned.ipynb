{
 "cells": [
  {
   "cell_type": "code",
   "execution_count": 0,
   "metadata": {
    "application/vnd.databricks.v1+cell": {
     "cellMetadata": {},
     "inputWidgets": {},
     "nuid": "11cf2676-4d9e-4b78-a58f-daeb6e5eea56",
     "showTitle": false,
     "tableResultSettingsMap": {},
     "title": ""
    }
   },
   "outputs": [],
   "source": [
    "# COMMAND ----------\n",
    "# Clean and validate KYC data\n",
    "import dlt\n",
    "from pyspark.sql.functions import *\n",
    "\n",
    "# COMMAND ----------\n",
    "@dlt.table(name='silver_kyc_cleaned')\n",
    "def clean_kyc():\n",
    "    df = dlt.read('bronze_kyc_customers')\n",
    "    return df.filter(col('customer_id').isNotNull())\n"
   ]
  }
 ],
 "metadata": {
  "application/vnd.databricks.v1+notebook": {
   "computePreferences": null,
   "dashboards": [],
   "environmentMetadata": {
    "base_environment": "",
    "environment_version": "2"
   },
   "inputWidgetPreferences": null,
   "language": "python",
   "notebookMetadata": {
    "pythonIndentUnit": 4
   },
   "notebookName": "silver_kyc_cleaned",
   "widgets": {}
  },
  "language_info": {
   "name": "python"
  }
 },
 "nbformat": 4,
 "nbformat_minor": 0
}
