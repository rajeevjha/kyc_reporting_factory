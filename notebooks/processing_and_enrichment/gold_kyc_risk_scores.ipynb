{
 "cells": [
  {
   "cell_type": "code",
   "execution_count": 0,
   "metadata": {
    "application/vnd.databricks.v1+cell": {
     "cellMetadata": {},
     "inputWidgets": {},
     "nuid": "11cf2676-4d9e-4b78-a58f-daeb6e5eea56",
     "showTitle": false,
     "tableResultSettingsMap": {},
     "title": ""
    }
   },
   "outputs": [],
   "source": [
    "\n",
    "# COMMAND ----------\n",
    "# Enrich KYC data with risk scoring\n",
    "import dlt\n",
    "from pyspark.sql.functions import *\n",
    "\n",
    "# COMMAND ----------\n",
    "@dlt.table(name='gold_kyc_risk_scores')\n",
    "def risk_score():\n",
    "    kyc = dlt.read('silver_kyc_cleaned')\n",
    "    watch = dlt.read('bronze_watchlists')\n",
    "    return kyc.join(watch, 'name', 'left').withColumn('risk_score', when(col('watchlist_type').isNotNull(), 90).otherwise(10))\n"
   ]
  }
 ],
 "metadata": {
  "application/vnd.databricks.v1+notebook": {
   "computePreferences": null,
   "dashboards": [],
   "environmentMetadata": {
    "base_environment": "",
    "environment_version": "2"
   },
   "inputWidgetPreferences": null,
   "language": "python",
   "notebookMetadata": {
    "pythonIndentUnit": 4
   },
   "notebookName": "gold_kyc_risk_scores",
   "widgets": {}
  },
  "language_info": {
   "name": "python"
  }
 },
 "nbformat": 4,
 "nbformat_minor": 0
}
