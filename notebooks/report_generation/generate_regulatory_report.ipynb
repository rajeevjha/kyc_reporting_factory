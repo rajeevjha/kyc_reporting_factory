{
 "cells": [
  {
   "cell_type": "code",
   "execution_count": 0,
   "metadata": {
    "application/vnd.databricks.v1+cell": {
     "cellMetadata": {},
     "inputWidgets": {},
     "nuid": "c980e675-e63b-4b08-a53e-7d2906e83d57",
     "showTitle": false,
     "tableResultSettingsMap": {},
     "title": ""
    }
   },
   "outputs": [],
   "source": [
    "# Generate final report as Delta/CSV\n",
    "from pyspark.sql.functions import *\n",
    "df = spark.table('kyc.gold_kyc_certified_report')\n",
    "df.write.mode('overwrite').option('header', True).csv('abfss://kyc-data@reprotingfactorydl.dfs.core.windows.net/export/2025Q3/')\n"
   ]
  }
 ],
 "metadata": {
  "application/vnd.databricks.v1+notebook": {
   "computePreferences": null,
   "dashboards": [],
   "environmentMetadata": {
    "base_environment": "",
    "environment_version": "2"
   },
   "inputWidgetPreferences": null,
   "language": "python",
   "notebookMetadata": {
    "pythonIndentUnit": 4
   },
   "notebookName": "generate_regulatory_report",
   "widgets": {}
  },
  "language_info": {
   "name": "python"
  }
 },
 "nbformat": 4,
 "nbformat_minor": 0
}
