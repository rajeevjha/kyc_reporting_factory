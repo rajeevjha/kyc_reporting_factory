{
 "cells": [
  {
   "cell_type": "code",
   "execution_count": 0,
   "metadata": {
    "application/vnd.databricks.v1+cell": {
     "cellMetadata": {},
     "inputWidgets": {},
     "nuid": "d658df35-1b02-4d3b-b59b-0612d0d40be1",
     "showTitle": false,
     "tableResultSettingsMap": {},
     "title": ""
    }
   },
   "outputs": [],
   "source": [
    "# Log invalid records\n",
    "import dlt\n",
    "from pyspark.sql.functions import *\n",
    "\n",
    "@dlt.table(name='invalid_kyc_records')\n",
    "@dlt.expect_all_or_drop({\n",
    "    'valid_customer_id': 'customer_id IS NOT NULL',\n",
    "    'valid_email': \"email LIKE '%@%'\"\n",
    "})\n",
    "def invalids():\n",
    "    return dlt.read('bronze_kyc_customers')\n"
   ]
  }
 ],
 "metadata": {
  "application/vnd.databricks.v1+notebook": {
   "computePreferences": null,
   "dashboards": [],
   "environmentMetadata": {
    "base_environment": "",
    "environment_version": "2"
   },
   "inputWidgetPreferences": null,
   "language": "python",
   "notebookMetadata": {
    "pythonIndentUnit": 4
   },
   "notebookName": "invalid_records_logger",
   "widgets": {}
  },
  "language_info": {
   "name": "python"
  }
 },
 "nbformat": 4,
 "nbformat_minor": 0
}
