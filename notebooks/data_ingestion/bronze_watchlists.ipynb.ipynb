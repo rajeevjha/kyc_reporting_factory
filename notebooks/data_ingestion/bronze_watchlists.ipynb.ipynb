{
 "cells": [
  {
   "cell_type": "code",
   "execution_count": 0,
   "metadata": {
    "application/vnd.databricks.v1+cell": {
     "cellMetadata": {},
     "inputWidgets": {},
     "nuid": "cd334a74-ed1a-48a6-bdb5-c1a9ce87668e",
     "showTitle": false,
     "tableResultSettingsMap": {},
     "title": ""
    }
   },
   "outputs": [],
   "source": [
    "# COMMAND ----------\n",
    "# Ingest watchlist data (sanctions, PEP)\n",
    "import dlt\n",
    "\n",
    "# COMMAND ----------\n",
    "@dlt.table(name='bronze_watchlists')\n",
    "def ingest_watchlists():\n",
    "    return spark.read.option('header', True).csv('abfss://kyc-data@reprotingfactorydl.dfs.core.windows.net/finance/kyc/raw/watchlist.csv')"
   ]
  }
 ],
 "metadata": {
  "application/vnd.databricks.v1+notebook": {
   "computePreferences": null,
   "dashboards": [],
   "environmentMetadata": {
    "base_environment": "",
    "environment_version": "2"
   },
   "inputWidgetPreferences": null,
   "language": "python",
   "notebookMetadata": {
    "pythonIndentUnit": 4
   },
   "notebookName": "bronze_watchlists.ipynb",
   "widgets": {}
  },
  "language_info": {
   "name": "python"
  }
 },
 "nbformat": 4,
 "nbformat_minor": 0
}
