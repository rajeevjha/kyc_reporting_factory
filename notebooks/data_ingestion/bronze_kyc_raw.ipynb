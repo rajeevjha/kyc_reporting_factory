{
 "cells": [
  {
   "cell_type": "code",
   "execution_count": 0,
   "metadata": {
    "application/vnd.databricks.v1+cell": {
     "cellMetadata": {},
     "inputWidgets": {},
     "nuid": "cd334a74-ed1a-48a6-bdb5-c1a9ce87668e",
     "showTitle": false,
     "tableResultSettingsMap": {},
     "title": ""
    }
   },
   "outputs": [],
   "source": [
    "\n",
    "# COMMAND ----------\n",
    "# Ingest raw KYC CSV files into bronze table\n",
    "import dlt\n",
    "from pyspark.sql.functions import *\n",
    "\n",
    "# COMMAND ----------\n",
    "@dlt.table(name='bronze_kyc_customers')\n",
    "def ingest_kyc():\n",
    "    return spark.read.option('header', True).csv('abfss://kyc-data@reprotingfactorydl.dfs.core.windows.net/finance/kyc/raw/customers.csv')\n",
    "\n"
   ]
  }
 ],
 "metadata": {
  "application/vnd.databricks.v1+notebook": {
   "computePreferences": null,
   "dashboards": [],
   "environmentMetadata": {
    "base_environment": "",
    "environment_version": "2"
   },
   "inputWidgetPreferences": null,
   "language": "python",
   "notebookMetadata": {
    "pythonIndentUnit": 4
   },
   "notebookName": "bronze_kyc_raw",
   "widgets": {}
  },
  "language_info": {
   "name": "python"
  }
 },
 "nbformat": 4,
 "nbformat_minor": 0
}
